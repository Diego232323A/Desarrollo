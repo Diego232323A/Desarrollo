{
 "cells": [
  {
   "cell_type": "markdown",
   "source": [
    "## Sistema de recomendacion"
   ],
   "metadata": {
    "collapsed": false
   }
  },
  {
   "cell_type": "code",
   "execution_count": null,
   "metadata": {
    "collapsed": true
   },
   "outputs": [],
   "source": [
    "# Importando librerias\n",
    "import pandas as pd\n",
    "import matplotlib.pyplot as plt\n",
    "%matplotlib inline\n",
    "from surprise import Dataset, Reader, SVD\n",
    "from surprise.model_selection import train_test_split"
   ]
  },
  {
   "cell_type": "code",
   "execution_count": null,
   "outputs": [],
   "source": [
    "#Cargar los datasets\n",
    "df_sco = pd.read_csv('./Datasets/score_movies.csv')\n",
    "df_plat = pd.read_csv('./Datasets/plataformas.csv')"
   ],
   "metadata": {
    "collapsed": false
   }
  },
  {
   "cell_type": "code",
   "execution_count": null,
   "outputs": [],
   "source": [
    "df_plat = df_plat[['movieId', 'title']]"
   ],
   "metadata": {
    "collapsed": false
   }
  },
  {
   "cell_type": "code",
   "execution_count": null,
   "outputs": [],
   "source": [
    "df_plat = df_plat.reset_index(drop=True)"
   ],
   "metadata": {
    "collapsed": false
   }
  },
  {
   "cell_type": "code",
   "execution_count": null,
   "outputs": [],
   "source": [
    "# Pasos previos\n",
    "\n",
    "N_filas = 100000 # Limitamos el dataset a N_filas\n",
    "\n",
    "reader = Reader(rating_scale=(1, 5))\n",
    "\n",
    "data = Dataset.load_from_df(df_sco[['userId', 'movieId', 'score']][:N_filas], reader)\n",
    "\n",
    "# Separamos nuestros datos\n",
    "\n",
    "trainset, testset = train_test_split(data, test_size=.25)"
   ],
   "metadata": {
    "collapsed": false
   }
  },
  {
   "cell_type": "code",
   "execution_count": null,
   "outputs": [],
   "source": [
    "# Entreno el modelo SVD\n",
    "\n",
    "modelo = SVD()\n",
    "\n",
    "modelo.fit(trainset)"
   ],
   "metadata": {
    "collapsed": false
   }
  },
  {
   "cell_type": "code",
   "execution_count": null,
   "outputs": [],
   "source": [
    "# Predigo\n",
    "\n",
    "predictions = modelo.test(testset)"
   ],
   "metadata": {
    "collapsed": false
   }
  },
  {
   "cell_type": "code",
   "execution_count": null,
   "outputs": [],
   "source": [
    "predictions[1]"
   ],
   "metadata": {
    "collapsed": false
   }
  },
  {
   "cell_type": "code",
   "execution_count": null,
   "outputs": [],
   "source": [
    "# Hacemos una predicción al azar para usuario y película\n",
    "\n",
    "modelo.predict(154,'as680')"
   ],
   "metadata": {
    "collapsed": false
   }
  },
  {
   "cell_type": "code",
   "execution_count": null,
   "outputs": [],
   "source": [
    "#Elijo un usuario al azar y hago una recomendación completa\n",
    "usuario = 35487\n",
    "rating = 4   # Tomamos películas a las que haya calificado con 4 o 5 estrellas\n",
    "df_user = df_sco[(df_sco.userId == usuario) & (df_sco.score >= rating)]\n",
    "df_user = df_user.reset_index(drop=True)\n",
    "\n",
    "df_user = pd.merge(df_user, df_plat[['movieId', 'title']], on='movieId', how='left')\n",
    "df_user"
   ],
   "metadata": {
    "collapsed": false
   }
  },
  {
   "cell_type": "code",
   "execution_count": null,
   "outputs": [],
   "source": [
    "recomendaciones_usuario = df_plat.iloc[:4499].copy()\n",
    "print(recomendaciones_usuario.shape)\n",
    "recomendaciones_usuario.head()"
   ],
   "metadata": {
    "collapsed": false
   }
  },
  {
   "cell_type": "code",
   "execution_count": null,
   "outputs": [],
   "source": [
    "#extraigo las películas que ya ha visto\n",
    "\n",
    "usuario_vistas = df_sco[df_sco['userId'] == usuario]\n",
    "print(usuario_vistas.shape)\n",
    "usuario_vistas.head()"
   ],
   "metadata": {
    "collapsed": false
   }
  },
  {
   "cell_type": "code",
   "execution_count": null,
   "outputs": [],
   "source": [
    "# Eliminamos las peliculas que el usuario ya vió\n",
    "\n",
    "recomendaciones_usuario = recomendaciones_usuario[~recomendaciones_usuario['movieId'].isin(usuario_vistas['movieId'])]\n",
    "\n",
    "recomendaciones_usuario.shape"
   ],
   "metadata": {
    "collapsed": false
   }
  },
  {
   "cell_type": "code",
   "execution_count": null,
   "outputs": [],
   "source": [
    "# Recomiendo\n",
    "\n",
    "recomendaciones_usuario['Estimate_Score'] = recomendaciones_usuario['movieId'].apply(lambda x: modelo.predict(usuario, x).est)"
   ],
   "metadata": {
    "collapsed": false
   }
  },
  {
   "cell_type": "code",
   "execution_count": null,
   "outputs": [],
   "source": [
    "recomendaciones_usuario = recomendaciones_usuario.sort_values('Estimate_Score', ascending=False)\n",
    "print(recomendaciones_usuario.head(10))"
   ],
   "metadata": {
    "collapsed": false
   }
  },
  {
   "cell_type": "markdown",
   "source": [
    "## Predicción con el usuario y (____)"
   ],
   "metadata": {
    "collapsed": false
   }
  },
  {
   "cell_type": "code",
   "execution_count": null,
   "outputs": [],
   "source": [
    "def movie_recommendation(userId, movieId):\n",
    "    # Obtenemos la predicción de la calificación que el usuario le daría a la película\n",
    "    prediction = modelo.predict(userId, str(movieId))\n",
    "\n",
    "    # Si la predicción es mayor o igual a 3.5, se recomienda la película\n",
    "    if prediction.est >= 3.5:\n",
    "        return \"Recomendada\", prediction.est\n",
    "    else:\n",
    "        return \"No recomendada\", prediction.est"
   ],
   "metadata": {
    "collapsed": false
   }
  },
  {
   "cell_type": "code",
   "execution_count": null,
   "outputs": [],
   "source": [
    "#Pruebo la función\n",
    "movie_recommendation(59, 'ns65')"
   ],
   "metadata": {
    "collapsed": false
   }
  },
  {
   "cell_type": "code",
   "execution_count": null,
   "outputs": [],
   "source": [
    "#Evaluo el modelo\n",
    "from surprise import accuracy\n",
    "\n",
    "accuracy.rmse(predictions)"
   ],
   "metadata": {
    "collapsed": false,
    "is_executing": true
   }
  },
  {
   "cell_type": "code",
   "execution_count": null,
   "outputs": [],
   "source": [
    "#Optimizo hiperparametros\n",
    "from surprise.model_selection import cross_validate\n",
    "import numpy as np\n",
    "\n",
    "rmse_test_means = []\n",
    "factores = [1,2,4,8,16,32,64,128]\n",
    "\n",
    "for factor in factores:\n",
    "    print(factor)\n",
    "    model = SVD(n_factors=factor)\n",
    "    cv = cross_validate(model, data, measures=['RMSE'], cv = 3, verbose=True)\n",
    "    rmse_test_means.append(np.mean(cv['test_rmse']))"
   ],
   "metadata": {
    "collapsed": false
   }
  },
  {
   "cell_type": "markdown",
   "source": [
    "## Crear una interfaz para el modelo"
   ],
   "metadata": {
    "collapsed": false
   }
  },
  {
   "cell_type": "code",
   "execution_count": null,
   "outputs": [],
   "source": [
    "#Creo una función para extraer el titulo\n",
    "def titulo(movieId):\n",
    "    return df_plat[df_plat.movieId == movieId].title.iloc[0].title()"
   ],
   "metadata": {
    "collapsed": false
   }
  },
  {
   "cell_type": "code",
   "execution_count": null,
   "outputs": [],
   "source": [
    "#Pruebo la función\n",
    "titulo(\"ds568\")"
   ],
   "metadata": {
    "collapsed": false
   }
  },
  {
   "cell_type": "code",
   "execution_count": null,
   "outputs": [],
   "source": [
    "#fusiono ambas funciono\n",
    "def title_recommendation(userId, movieId):\n",
    "    recomendado, puntaje = movie_recommendation(userId, movieId)\n",
    "    titulo_1 = titulo(movieId)\n",
    "    return (recomendado, puntaje,titulo_1)"
   ],
   "metadata": {
    "collapsed": false
   }
  },
  {
   "cell_type": "code",
   "execution_count": null,
   "outputs": [],
   "source": [
    "title_recommendation(548,\"ds568\")"
   ],
   "metadata": {
    "collapsed": false
   }
  },
  {
   "cell_type": "code",
   "execution_count": null,
   "outputs": [],
   "source": [
    "import gradio as gr\n",
    "\n",
    "title = str(\"El tinder de tus peliculas\")\n",
    "\n",
    "with gr.Blocks(title=title) as demo:\n",
    "    nro_usuario = gr.inputs.Number(label='tu numero de usario')\n",
    "    peli = gr.Textbox(label='numero de pelicula')\n",
    "    recomendacion = gr.Button('matchea con tu pelicula')\n",
    "    title = gr.Textbox(label='tu match se llama')\n",
    "    output = gr.Textbox(label= 'le gustas o no')\n",
    "    score = gr.Textbox(label='calidad del match')\n",
    "    recomendacion.click(fn = title_recommendation, inputs=[nro_usuario,peli], outputs=[output, score,title])\n",
    "demo.launch(share = True)"
   ],
   "metadata": {
    "collapsed": false,
    "is_executing": true
   }
  },
  {
   "cell_type": "markdown",
   "source": [],
   "metadata": {
    "collapsed": false
   }
  }
 ],
 "metadata": {
  "kernelspec": {
   "display_name": "Python 3",
   "language": "python",
   "name": "python3"
  },
  "language_info": {
   "codemirror_mode": {
    "name": "ipython",
    "version": 2
   },
   "file_extension": ".py",
   "mimetype": "text/x-python",
   "name": "python",
   "nbconvert_exporter": "python",
   "pygments_lexer": "ipython2",
   "version": "2.7.6"
  }
 },
 "nbformat": 4,
 "nbformat_minor": 0
}
